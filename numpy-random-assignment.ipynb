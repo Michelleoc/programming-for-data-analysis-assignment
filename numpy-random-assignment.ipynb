{
 "cells": [
  {
   "cell_type": "markdown",
   "id": "f4e4411c",
   "metadata": {},
   "source": [
    "# Numpy random assignment \n",
    "\n",
    "***"
   ]
  },
  {
   "cell_type": "markdown",
   "id": "1a39587b",
   "metadata": {},
   "source": [
    "## Author : Michelle O'Connor (Student ID : G00398975)"
   ]
  },
  {
   "cell_type": "markdown",
   "id": "f5d6033c",
   "metadata": {},
   "source": [
    "\n",
    "\n",
    "Overall purpose of the numpy random package"
   ]
  },
  {
   "cell_type": "code",
   "execution_count": null,
   "id": "2bb1435a",
   "metadata": {},
   "outputs": [],
   "source": []
  }
 ],
 "metadata": {
  "kernelspec": {
   "display_name": "Python 3",
   "language": "python",
   "name": "python3"
  },
  "language_info": {
   "codemirror_mode": {
    "name": "ipython",
    "version": 3
   },
   "file_extension": ".py",
   "mimetype": "text/x-python",
   "name": "python",
   "nbconvert_exporter": "python",
   "pygments_lexer": "ipython3",
   "version": "3.8.8"
  }
 },
 "nbformat": 4,
 "nbformat_minor": 5
}
